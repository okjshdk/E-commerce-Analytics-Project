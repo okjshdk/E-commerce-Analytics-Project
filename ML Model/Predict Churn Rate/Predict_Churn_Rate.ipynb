{
  "nbformat": 4,
  "nbformat_minor": 0,
  "metadata": {
    "colab": {
      "provenance": []
    },
    "kernelspec": {
      "name": "python3",
      "display_name": "Python 3"
    },
    "language_info": {
      "name": "python"
    }
  },
  "cells": [
    {
      "cell_type": "markdown",
      "source": [
        "Project: Predict Churn Rate with Random Forest\n",
        "\n",
        "Dataset: Olist (kaggle)\n",
        "\n",
        "Goal:\n",
        "- Dự đoán khả năng khách hàng rời bỏ (churn) dựa trên hành vi mua hàng, điểm đánh giá và phương thức thanh toán.\n",
        "\n",
        "- Xây dựng mô hình học máy (Random Forest).\n",
        "\n",
        "- Đánh giá độ chính xác và khả năng phân biệt (ROC-AUC)."
      ],
      "metadata": {
        "id": "KzVFdTO5EL9T"
      }
    },
    {
      "cell_type": "markdown",
      "source": [
        "# Import library"
      ],
      "metadata": {
        "id": "eyBl31Sdo33K"
      }
    },
    {
      "cell_type": "code",
      "execution_count": 2,
      "metadata": {
        "id": "-6CPLUatn3Nz"
      },
      "outputs": [],
      "source": [
        "import pandas as pd\n",
        "import numpy as np\n",
        "import matplotlib.pyplot as plt\n",
        "import seaborn as sns\n",
        "from sklearn.model_selection import train_test_split, GridSearchCV\n",
        "from sklearn.preprocessing import StandardScaler\n",
        "from sklearn.ensemble import RandomForestClassifier\n",
        "from sklearn.metrics import (\n",
        "    accuracy_score, roc_auc_score, classification_report, confusion_matrix\n",
        ")\n",
        "from joblib import dump"
      ]
    },
    {
      "cell_type": "markdown",
      "source": [
        "# Load data"
      ],
      "metadata": {
        "id": "OTlzPez2pOs7"
      }
    },
    {
      "cell_type": "code",
      "source": [
        "from google.colab import drive\n",
        "drive.mount('/content/drive')\n"
      ],
      "metadata": {
        "colab": {
          "base_uri": "https://localhost:8080/"
        },
        "id": "QaUXcmM8H9bu",
        "outputId": "e285fa2a-73f7-4606-ab4f-d6daa5035ca0"
      },
      "execution_count": 3,
      "outputs": [
        {
          "output_type": "stream",
          "name": "stdout",
          "text": [
            "Mounted at /content/drive\n"
          ]
        }
      ]
    },
    {
      "cell_type": "code",
      "source": [
        "!mkdir -p ~/.kaggle\n",
        "!cp /content/drive/MyDrive/kaggle.json ~/.kaggle/\n",
        "!chmod 600 ~/.kaggle/kaggle.json\n"
      ],
      "metadata": {
        "id": "GpoRBY-QHkEK"
      },
      "execution_count": 4,
      "outputs": []
    },
    {
      "cell_type": "code",
      "source": [
        "!kaggle datasets download -d olistbr/brazilian-ecommerce\n"
      ],
      "metadata": {
        "colab": {
          "base_uri": "https://localhost:8080/"
        },
        "id": "LEx4DVt8HpLR",
        "outputId": "e03bc4c1-34ec-4f97-c421-62bb53fbd745"
      },
      "execution_count": 5,
      "outputs": [
        {
          "output_type": "stream",
          "name": "stdout",
          "text": [
            "Dataset URL: https://www.kaggle.com/datasets/olistbr/brazilian-ecommerce\n",
            "License(s): CC-BY-NC-SA-4.0\n",
            "Downloading brazilian-ecommerce.zip to /content\n",
            "  0% 0.00/42.6M [00:00<?, ?B/s]\n",
            "100% 42.6M/42.6M [00:00<00:00, 1.47GB/s]\n"
          ]
        }
      ]
    },
    {
      "cell_type": "code",
      "source": [
        "!unzip brazilian-ecommerce.zip\n"
      ],
      "metadata": {
        "colab": {
          "base_uri": "https://localhost:8080/"
        },
        "id": "3SDufElPHpw0",
        "outputId": "2b98866a-e1ff-465a-a45b-edbf4a43cdad"
      },
      "execution_count": 6,
      "outputs": [
        {
          "output_type": "stream",
          "name": "stdout",
          "text": [
            "Archive:  brazilian-ecommerce.zip\n",
            "  inflating: olist_customers_dataset.csv  \n",
            "  inflating: olist_geolocation_dataset.csv  \n",
            "  inflating: olist_order_items_dataset.csv  \n",
            "  inflating: olist_order_payments_dataset.csv  \n",
            "  inflating: olist_order_reviews_dataset.csv  \n",
            "  inflating: olist_orders_dataset.csv  \n",
            "  inflating: olist_products_dataset.csv  \n",
            "  inflating: olist_sellers_dataset.csv  \n",
            "  inflating: product_category_name_translation.csv  \n"
          ]
        }
      ]
    },
    {
      "cell_type": "code",
      "source": [
        "orders = pd.read_csv('olist_orders_dataset.csv')\n",
        "reviews = pd.read_csv('olist_order_reviews_dataset.csv')\n",
        "items = pd.read_csv('olist_order_items_dataset.csv')\n",
        "customers = pd.read_csv('olist_customers_dataset.csv')\n",
        "payments = pd.read_csv('olist_order_payments_dataset.csv')\n"
      ],
      "metadata": {
        "id": "RpuyaDXGpr5D"
      },
      "execution_count": 7,
      "outputs": []
    },
    {
      "cell_type": "markdown",
      "source": [
        "# data preparation\n"
      ],
      "metadata": {
        "id": "ER78q_ueql-N"
      }
    },
    {
      "cell_type": "code",
      "source": [
        "orders = orders[orders['order_status'] == 'delivered'].copy()\n"
      ],
      "metadata": {
        "id": "hGLEL7A_ovuv"
      },
      "execution_count": 8,
      "outputs": []
    },
    {
      "cell_type": "code",
      "source": [
        "df = orders.merge(items, on='order_id', how='inner')\n",
        "\n",
        "df = df.merge(reviews[['order_id', 'review_score']], on='order_id', how='left')\n",
        "\n",
        "df = df.merge(payments[['order_id', 'payment_type', 'payment_value', 'payment_installments']], on='order_id', how='left')\n",
        "\n",
        "df = df.merge(customers[['customer_id', 'customer_unique_id']], on='customer_id', how='left')"
      ],
      "metadata": {
        "id": "DA6rQCh6pA43"
      },
      "execution_count": 9,
      "outputs": []
    },
    {
      "cell_type": "code",
      "source": [
        "df['order_purchase_timestamp'] = pd.to_datetime(df['order_purchase_timestamp'])\n",
        "df['order_delivered_customer_date'] = pd.to_datetime(df['order_delivered_customer_date'])\n",
        "df['order_estimated_delivery_date'] = pd.to_datetime(df['order_estimated_delivery_date'])\n",
        "\n",
        "df['delivery_time'] = (df['order_delivered_customer_date'] - df['order_purchase_timestamp']).dt.days\n",
        "df['delivery_delay'] = (df['order_delivered_customer_date'] - df['order_estimated_delivery_date']).dt.days\n"
      ],
      "metadata": {
        "id": "jRaeqRX3xR9W"
      },
      "execution_count": 10,
      "outputs": []
    },
    {
      "cell_type": "markdown",
      "source": [
        "## Data cleaning"
      ],
      "metadata": {
        "id": "9XzajlDf6rrO"
      }
    },
    {
      "cell_type": "code",
      "source": [
        "# Kiểm tra null\n",
        "\n",
        "df.isnull().sum().sort_values(ascending=False)\n"
      ],
      "metadata": {
        "colab": {
          "base_uri": "https://localhost:8080/",
          "height": 742
        },
        "id": "f3yWq3Mh6c1S",
        "outputId": "38c4cbf2-1159-4f3b-9cff-d68e93a7dbeb"
      },
      "execution_count": 13,
      "outputs": [
        {
          "output_type": "execute_result",
          "data": {
            "text/plain": [
              "order_id                         0\n",
              "customer_id                      0\n",
              "order_status                     0\n",
              "order_purchase_timestamp         0\n",
              "order_approved_at                0\n",
              "order_delivered_carrier_date     0\n",
              "order_delivered_customer_date    0\n",
              "order_estimated_delivery_date    0\n",
              "order_item_id                    0\n",
              "product_id                       0\n",
              "seller_id                        0\n",
              "shipping_limit_date              0\n",
              "price                            0\n",
              "freight_value                    0\n",
              "review_score                     0\n",
              "payment_type                     0\n",
              "payment_value                    0\n",
              "payment_installments             0\n",
              "customer_unique_id               0\n",
              "delivery_time                    0\n",
              "delivery_delay                   0\n",
              "dtype: int64"
            ],
            "text/html": [
              "<div>\n",
              "<style scoped>\n",
              "    .dataframe tbody tr th:only-of-type {\n",
              "        vertical-align: middle;\n",
              "    }\n",
              "\n",
              "    .dataframe tbody tr th {\n",
              "        vertical-align: top;\n",
              "    }\n",
              "\n",
              "    .dataframe thead th {\n",
              "        text-align: right;\n",
              "    }\n",
              "</style>\n",
              "<table border=\"1\" class=\"dataframe\">\n",
              "  <thead>\n",
              "    <tr style=\"text-align: right;\">\n",
              "      <th></th>\n",
              "      <th>0</th>\n",
              "    </tr>\n",
              "  </thead>\n",
              "  <tbody>\n",
              "    <tr>\n",
              "      <th>order_id</th>\n",
              "      <td>0</td>\n",
              "    </tr>\n",
              "    <tr>\n",
              "      <th>customer_id</th>\n",
              "      <td>0</td>\n",
              "    </tr>\n",
              "    <tr>\n",
              "      <th>order_status</th>\n",
              "      <td>0</td>\n",
              "    </tr>\n",
              "    <tr>\n",
              "      <th>order_purchase_timestamp</th>\n",
              "      <td>0</td>\n",
              "    </tr>\n",
              "    <tr>\n",
              "      <th>order_approved_at</th>\n",
              "      <td>0</td>\n",
              "    </tr>\n",
              "    <tr>\n",
              "      <th>order_delivered_carrier_date</th>\n",
              "      <td>0</td>\n",
              "    </tr>\n",
              "    <tr>\n",
              "      <th>order_delivered_customer_date</th>\n",
              "      <td>0</td>\n",
              "    </tr>\n",
              "    <tr>\n",
              "      <th>order_estimated_delivery_date</th>\n",
              "      <td>0</td>\n",
              "    </tr>\n",
              "    <tr>\n",
              "      <th>order_item_id</th>\n",
              "      <td>0</td>\n",
              "    </tr>\n",
              "    <tr>\n",
              "      <th>product_id</th>\n",
              "      <td>0</td>\n",
              "    </tr>\n",
              "    <tr>\n",
              "      <th>seller_id</th>\n",
              "      <td>0</td>\n",
              "    </tr>\n",
              "    <tr>\n",
              "      <th>shipping_limit_date</th>\n",
              "      <td>0</td>\n",
              "    </tr>\n",
              "    <tr>\n",
              "      <th>price</th>\n",
              "      <td>0</td>\n",
              "    </tr>\n",
              "    <tr>\n",
              "      <th>freight_value</th>\n",
              "      <td>0</td>\n",
              "    </tr>\n",
              "    <tr>\n",
              "      <th>review_score</th>\n",
              "      <td>0</td>\n",
              "    </tr>\n",
              "    <tr>\n",
              "      <th>payment_type</th>\n",
              "      <td>0</td>\n",
              "    </tr>\n",
              "    <tr>\n",
              "      <th>payment_value</th>\n",
              "      <td>0</td>\n",
              "    </tr>\n",
              "    <tr>\n",
              "      <th>payment_installments</th>\n",
              "      <td>0</td>\n",
              "    </tr>\n",
              "    <tr>\n",
              "      <th>customer_unique_id</th>\n",
              "      <td>0</td>\n",
              "    </tr>\n",
              "    <tr>\n",
              "      <th>delivery_time</th>\n",
              "      <td>0</td>\n",
              "    </tr>\n",
              "    <tr>\n",
              "      <th>delivery_delay</th>\n",
              "      <td>0</td>\n",
              "    </tr>\n",
              "  </tbody>\n",
              "</table>\n",
              "</div><br><label><b>dtype:</b> int64</label>"
            ]
          },
          "metadata": {},
          "execution_count": 13
        }
      ]
    },
    {
      "cell_type": "code",
      "source": [
        "# Drop null\n",
        "df = df.dropna().reset_index(drop=True)"
      ],
      "metadata": {
        "id": "ov3-OJQr61pE"
      },
      "execution_count": 12,
      "outputs": []
    },
    {
      "cell_type": "markdown",
      "source": [
        "## Feature engineering"
      ],
      "metadata": {
        "id": "H7_kINHh68ZS"
      }
    },
    {
      "cell_type": "code",
      "source": [
        "# 1️⃣ Cột 1/0 cho khách dùng thẻ credit card trên từng đơn\n",
        "df['is_credit_card'] = (df['payment_type'] == 'credit_card').astype(int)\n",
        "\n",
        "features_df = df.groupby('customer_unique_id').agg(\n",
        "    num_orders=('order_id', 'nunique'),\n",
        "    avg_order_value=('payment_value', 'mean'),\n",
        "    total_spent=('payment_value', 'sum'),\n",
        "    avg_delivery_time=('delivery_time', 'mean'),\n",
        "    avg_delivery_delay=('delivery_delay', 'mean'),\n",
        "    avg_review_score=('review_score', 'mean'),\n",
        "    num_low_reviews=('review_score', lambda x: (x <= 2).sum()),\n",
        "    num_high_reviews=('review_score', lambda x: (x >= 4).sum()),\n",
        "    avg_freight_value=('freight_value', 'mean'),\n",
        "    avg_payment_installments=('payment_installments', 'mean'),\n",
        "    payment_type_credit_card=('is_credit_card', 'max')\n",
        ").reset_index()\n",
        "\n"
      ],
      "metadata": {
        "id": "ISikLjdex_HO"
      },
      "execution_count": 14,
      "outputs": []
    },
    {
      "cell_type": "code",
      "source": [
        "# Xác định ngày cuối cùng\n",
        "cutoff_date = df['order_purchase_timestamp'].max()\n",
        "\n",
        "# Tính ngày mua cuối của mỗi khách hàng\n",
        "last_purchase = df.groupby('customer_unique_id')['order_purchase_timestamp'].max().reset_index()\n",
        "last_purchase.columns = ['customer_unique_id', 'last_purchase_date']\n",
        "\n",
        "# Tính số ngày kể từ lần mua cuối\n",
        "last_purchase['days_since_last_purchase'] = (cutoff_date - last_purchase['last_purchase_date']).dt.days\n",
        "\n",
        "# Gán nhãn churn (1 = churn, 0 = active)\n",
        "last_purchase['churn'] = np.where(last_purchase['days_since_last_purchase'] > 180, 1, 0)\n",
        "\n",
        "features_df = features_df.merge(last_purchase[['customer_unique_id', 'churn']],\n",
        "                                on='customer_unique_id', how='left')\n"
      ],
      "metadata": {
        "id": "P024umXKzMSu"
      },
      "execution_count": 15,
      "outputs": []
    },
    {
      "cell_type": "markdown",
      "source": [
        "# Xây dựng mô hình"
      ],
      "metadata": {
        "id": "5BQrYBsk09Hc"
      }
    },
    {
      "cell_type": "markdown",
      "source": [
        "## Training"
      ],
      "metadata": {
        "id": "InW5ttEI-Kgr"
      }
    },
    {
      "cell_type": "code",
      "source": [
        "# Chia train/test\n",
        "\n",
        "X = features_df.drop(columns=['customer_unique_id', 'churn'])\n",
        "y = features_df['churn']\n",
        "\n",
        "X_train, X_test, y_train, y_test = train_test_split(\n",
        "    X, y, test_size=0.2, random_state=42, stratify=y\n",
        ")\n"
      ],
      "metadata": {
        "id": "-I7swBg02SSa"
      },
      "execution_count": 18,
      "outputs": []
    },
    {
      "cell_type": "code",
      "source": [
        "# Chuẩn hóa feature\n",
        "\n",
        "scaler = StandardScaler()\n",
        "X_train_scaled = scaler.fit_transform(X_train)\n",
        "X_test_scaled = scaler.transform(X_test)\n"
      ],
      "metadata": {
        "id": "CRY2i-5V2Vp8"
      },
      "execution_count": 19,
      "outputs": []
    },
    {
      "cell_type": "code",
      "source": [
        "# Mô hình Random Forest\n",
        "\n",
        "rf = RandomForestClassifier(random_state=0, class_weight='balanced')\n",
        "\n",
        "param_grid = {\n",
        "    'n_estimators': [100, 200, 300],\n",
        "    'max_depth': [10, 20, 30 ],\n",
        "}\n",
        "\n",
        "# Tối ưu siêu tham số (Grid search)\n",
        "grid_search = GridSearchCV(\n",
        "    estimator=rf,\n",
        "    param_grid=param_grid,\n",
        "    cv=5,\n",
        "    scoring='roc_auc',\n",
        ")\n",
        "\n",
        "grid_search.fit(X_train, y_train)\n",
        "\n",
        "print(\"Best parameters:\", grid_search.best_params_)\n",
        "print(\"Best CV ROC-AUC:\", grid_search.best_score_)\n",
        "\n"
      ],
      "metadata": {
        "colab": {
          "base_uri": "https://localhost:8080/"
        },
        "id": "iBXOCfXt2do6",
        "outputId": "b0c98f04-4fa6-454c-d8e1-c241e652d3e8"
      },
      "execution_count": 23,
      "outputs": [
        {
          "output_type": "stream",
          "name": "stdout",
          "text": [
            "Best parameters: {'max_depth': 30, 'n_estimators': 300}\n",
            "Best CV ROC-AUC: 0.8844497600743754\n"
          ]
        }
      ]
    },
    {
      "cell_type": "markdown",
      "source": [
        "## Evaluation"
      ],
      "metadata": {
        "id": "yVwtcxHO-F_l"
      }
    },
    {
      "cell_type": "code",
      "source": [
        "best_rf = grid_search.best_estimator_\n",
        "y_pred = best_rf.predict(X_test)\n",
        "y_proba = best_rf.predict_proba(X_test)[:, 1]\n",
        "\n",
        "from sklearn.metrics import accuracy_score, roc_auc_score, classification_report\n",
        "print(\"Accuracy:\", accuracy_score(y_test, y_pred))\n",
        "print(\"ROC-AUC:\", roc_auc_score(y_test, y_proba))\n",
        "print(classification_report(y_test, y_pred))"
      ],
      "metadata": {
        "colab": {
          "base_uri": "https://localhost:8080/"
        },
        "id": "b1j88yu4-BhA",
        "outputId": "d2ed18fd-5ada-4377-bbfc-e3c36516fc9f"
      },
      "execution_count": 24,
      "outputs": [
        {
          "output_type": "stream",
          "name": "stdout",
          "text": [
            "Accuracy: 0.8105893136356284\n",
            "ROC-AUC: 0.89087542231126\n",
            "              precision    recall  f1-score   support\n",
            "\n",
            "           0       0.81      0.70      0.75      7629\n",
            "           1       0.81      0.89      0.85     10918\n",
            "\n",
            "    accuracy                           0.81     18547\n",
            "   macro avg       0.81      0.79      0.80     18547\n",
            "weighted avg       0.81      0.81      0.81     18547\n",
            "\n"
          ]
        }
      ]
    },
    {
      "cell_type": "markdown",
      "source": [
        "## Top Feature Importance"
      ],
      "metadata": {
        "id": "Vt6KNdF39n8S"
      }
    },
    {
      "cell_type": "code",
      "source": [
        "importances = pd.Series(best_rf.feature_importances_, index=X.columns).sort_values(ascending=False)\n",
        "plt.figure(figsize=(8,5))\n",
        "sns.barplot(x=importances.head(10), y=importances.head(10).index)\n",
        "plt.title(\"Top 10 Feature Importances\")\n",
        "plt.show()\n"
      ],
      "metadata": {
        "colab": {
          "base_uri": "https://localhost:8080/",
          "height": 487
        },
        "id": "cAeag8Hl9UpQ",
        "outputId": "3a404d8b-8b48-446b-fdce-aa6646cf110d"
      },
      "execution_count": 25,
      "outputs": [
        {
          "output_type": "display_data",
          "data": {
            "text/plain": [
              "<Figure size 800x500 with 1 Axes>"
            ],
            "image/png": "[encoded data removed]"
          },
          "metadata": {}
        }
      ]
    },
    {
      "cell_type": "markdown",
      "source": [
        "# Save model and scaler"
      ],
      "metadata": {
        "id": "zuWtAl3xBFuL"
      }
    },
    {
      "cell_type": "code",
      "source": [
        "dump(best_rf, 'random_forest_churn_model.pkl')\n",
        "dump(scaler, 'scaler.pkl')\n",
        "print(\"Model and scaler saved successfully.\")"
      ],
      "metadata": {
        "colab": {
          "base_uri": "https://localhost:8080/"
        },
        "id": "AthRJc9ABGYn",
        "outputId": "d29dedfd-de0d-4a2b-f21b-7adc8ecad03a"
      },
      "execution_count": 26,
      "outputs": [
        {
          "output_type": "stream",
          "name": "stdout",
          "text": [
            "Model and scaler saved successfully.\n"
          ]
        }
      ]
    }
  ]
}